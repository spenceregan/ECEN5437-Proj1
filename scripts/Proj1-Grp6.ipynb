{
 "cells": [
  {
   "cell_type": "code",
   "execution_count": 151,
   "metadata": {},
   "outputs": [],
   "source": [
    "from pickle import FALSE, TRUE\n",
    "from networkx import DiGraph\n",
    "import networkx as nx\n",
    "import pandas as pd\n",
    "from pathlib import Path\n",
    "from math import sqrt\n",
    "\n",
    "import opendssdirect as dss\n",
    "\n",
    "\n",
    "class DistNetwork(DiGraph):\n",
    "\n",
    "    def Add_Nodes(self, node_csv):\n",
    "        nodes_df = pd.read_csv(node_csv)\n",
    "        for bus in nodes_df.index:\n",
    "            bus_name = nodes_df['Bus'][bus]\n",
    "            Loc_x = nodes_df['Graph_Loc_x'][bus]\n",
    "            Loc_y = nodes_df['Graph_Loc_y'][bus]\n",
    "            graph_coords = (Loc_x, Loc_y)\n",
    "            self.add_node(bus_name, coords = graph_coords)\n",
    "    \n",
    "    def Add_LineGeoms(self, lineGeoms_csv):\n",
    "        line_geoms_df = pd.read_csv(lineGeoms_csv, \n",
    "                                    index_col='LineGeo', \n",
    "                                    keep_default_na=FALSE\n",
    "                                    )\n",
    "        self.line_geoms = line_geoms_df\n",
    "        phase_dict = {'a':'.1',\n",
    "                      'b':'.2',\n",
    "                      'c':'.3',\n",
    "                      'ab': '.1.2',\n",
    "                      'ac': '.1.3',\n",
    "                      'bc': '.2.3',\n",
    "                      'abc': '.1.2.3'}\n",
    "        self.line_geoms['cond_pos'] = self.line_geoms['cond_pos'].map(phase_dict)\n",
    "\n",
    "\n",
    "    def get_network_wires(self) -> set:\n",
    "        OH_line_geos = self.line_geoms['Type']=='OH'\n",
    "        n_cond_select = self.line_geoms['Nphases'] != self.line_geoms['Nconds']\n",
    "        ph_conductors = set(self.line_geoms['phase_cond'][OH_line_geos])\n",
    "        n_conductors = set(self.line_geoms['neutral_cond'][n_cond_select])\n",
    "        return n_conductors.union(ph_conductors)\n",
    "\n",
    "    def get_network_cnwires(self) -> set:\n",
    "        CN_line_geos = self.line_geoms['Type']=='CN'\n",
    "        cn_conductors = set(self.line_geoms['neutral_cond'][CN_line_geos])\n",
    "        return cn_conductors\n",
    "    \n",
    "    def Add_WireData(self, wireData_csv):\n",
    "        columns = ['Type',\n",
    "                   'GMRac',\n",
    "                   'GMRunits',\n",
    "                   'rac',\n",
    "                   'runits',\n",
    "                   'normamps'\n",
    "                   ]\n",
    "        wire_data_df = pd.read_csv(wireData_csv, index_col='Type', usecols=columns)\n",
    "        wires = wire_data_df.index\n",
    "        wset = wires.isin(self.get_network_wires())\n",
    "        self.wire_data = wire_data_df.loc[wset]\n",
    "\n",
    "    def Add_CNData(self, CNData_csv):\n",
    "        columns = ['Type',\n",
    "                   'GMRac',\n",
    "                   'GmrStrand',\n",
    "                   'GMRunits',\n",
    "                   'Rac',\n",
    "                   'Rstrand',\n",
    "                   'Runits',\n",
    "                   'DiaCable',\n",
    "                   'DiaIns',\n",
    "                   'DiaStrand',\n",
    "                   'diam',\n",
    "                   'Radunits',\n",
    "                   'normamps',\n",
    "                   'k'\n",
    "                   ]\n",
    "        CN_data_df = pd.read_csv(CNData_csv, index_col='Type', usecols=columns)\n",
    "        cn_wires = CN_data_df.index\n",
    "        cnset = cn_wires.isin(self.get_network_cnwires())\n",
    "        self.CN_data = CN_data_df.loc[cnset]\n",
    "\n",
    "    def Add_Lines(self, lines_csv):\n",
    "        lines_df = pd.read_csv(lines_csv)\n",
    "        for line in lines_df.index:\n",
    "            Bus1 = lines_df['bus1'][line]\n",
    "            Bus2 = lines_df['bus2'][line]\n",
    "            length = lines_df['Length'][line]\n",
    "            units = lines_df['Units'][line]\n",
    "            line_geo = lines_df['LineGeometry'][line]\n",
    "            self.add_edge(Bus1, \n",
    "                          Bus2,\n",
    "                          connector = 'line', \n",
    "                          Length = length, \n",
    "                          Units = units, \n",
    "                          LineGeo = line_geo\n",
    "                          )\n",
    "    \n",
    "    def Add_Loads(self, loads_csv):\n",
    "        loads_df = pd.read_csv(loads_csv)\n",
    "        for load in loads_df.index:\n",
    "            bus = loads_df['Node'][load]\n",
    "            load_kW = loads_df['kW'][load]\n",
    "            load_kVAr = loads_df['kVAr'][load]\n",
    "            self.nodes[bus]['load_node'] = 1\n",
    "            self.nodes[bus]['load_kW'] = load_kW\n",
    "            self.nodes[bus]['load_kVAr'] = load_kVAr\n",
    "\n",
    "    def downstream_loads(self, node: str, as_kVA: bool = False):\n",
    "        ds_nodes = [node]\n",
    "        ds_nodes += list(nx.descendants(self, node))\n",
    "        ds_kW = 0.0\n",
    "        ds_kVAr = 0.0\n",
    "        for n in ds_nodes:\n",
    "            if 'load_node' in self.nodes[n]:\n",
    "                ds_kW += self.nodes[n]['load_kW']\n",
    "                ds_kVAr += self.nodes[n]['load_kVAr']\n",
    "            else:\n",
    "                pass\n",
    "        if as_kVA:\n",
    "            kVA = sqrt(ds_kW**2 + ds_kVAr**2)\n",
    "            return kVA\n",
    "        else:\n",
    "            load_tuple = (ds_kW, ds_kVAr)\n",
    "            return load_tuple\n",
    "\n",
    "\n",
    "    def Add_Xfmrs(self, xfmr_csv):\n",
    "        xfmr_df = pd.read_csv(xfmr_csv)\n",
    "        #print(xfmr_df)\n",
    "        for xfmr in xfmr_df.index:\n",
    "            Bus1 = xfmr_df['bus1_hv'][xfmr]\n",
    "            Bus2 = xfmr_df['bus2_lv'][xfmr]\n",
    "            self.add_edge(Bus1, Bus2, \n",
    "                          connector='xfmr',\n",
    "                          kV_hv = xfmr_df['kV_hv'][xfmr],\n",
    "                          kV_lv = xfmr_df['kV_lv'][xfmr],\n",
    "                          kVA_hv = xfmr_df['kVA_hv'][xfmr],\n",
    "                          kVA_lv = xfmr_df['kVA_hv'][xfmr],\n",
    "                          conn_hv = xfmr_df['conn_hv'][xfmr],\n",
    "                          conn_lv = xfmr_df['conn_lv'][xfmr],\n",
    "                          phases = xfmr_df['phases'][xfmr],\n",
    "                          rpu = xfmr_df['R'][xfmr],\n",
    "                          xpu = xfmr_df['X'][xfmr]\n",
    "                          )\n",
    "    \n",
    "    def add_network_components(self, component_csvs: dict):\n",
    "        \n",
    "        bus_csv = Path('..', 'network-data', component_csvs['nodes'])\n",
    "        self.Add_Nodes(bus_csv)\n",
    "        \n",
    "        lineGeo_csv = Path('..', 'network-data', component_csvs['line_geos'])\n",
    "        self.Add_LineGeoms(lineGeo_csv)\n",
    "        \n",
    "        wireData_csv = Path('..', 'network-data', component_csvs['wire_data'])\n",
    "        self.Add_WireData(wireData_csv)\n",
    "        CNData_csv = Path('..', 'network-data', component_csvs['CN_data'])\n",
    "        self.Add_CNData(CNData_csv)\n",
    "        \n",
    "        lines_csv = Path('..', 'network-data', component_csvs['lines'])\n",
    "        self.Add_Lines(lines_csv)\n",
    "        \n",
    "        loads_csv = Path('..', 'network-data', component_csvs['loads'])\n",
    "        self.Add_Loads(loads_csv)\n",
    "\n",
    "        xfmrs_csv = Path('..', 'network-data', component_csvs['xfmrs'])\n",
    "        self.Add_Xfmrs(xfmrs_csv)\n",
    "\n",
    "    #def plot_attribute(self, attr):\n",
    "\n",
    "\n",
    "\n",
    "    def clear_DSS(self):\n",
    "        reply = dss.utils.run_command(\"clear\")\n",
    "        print(reply)\n",
    "\n",
    "    def solve_DSS(self):\n",
    "        reply = dss.utils.run_command(\"solve\")\n",
    "        print(reply)\n",
    "\n",
    "    def compile_DSS(self):\n",
    "        self.clear_DSS()\n",
    "        \n",
    "        cmd = dss.utils.run_command\n",
    "\n",
    "        #compile wriedata\n",
    "        for wire in self.wire_data.index:\n",
    "            dss_str = 'new wiredata.' + wire\n",
    "            for attr in self.wire_data.columns:\n",
    "                dss_str += ' ' + attr + '=' + str(self.wire_data[attr][wire])\n",
    "            reply = cmd(dss_str)\n",
    "            print(reply)\n",
    "        \n",
    "        #compile CNdata\n",
    "        for cnwire in self.CN_data.index:\n",
    "            dss_str = 'new cndata.' + cnwire\n",
    "            for attr in self.CN_data.columns:\n",
    "                dss_str += ' ' + attr + '=' + str(self.CN_data[attr][wire])\n",
    "            reply = cmd(dss_str)\n",
    "            print(reply)\n",
    "\n",
    "        #compile line geometries\n",
    "        for line_geo in self.line_geoms.index:\n",
    "            dss_str = 'new lineGeometry.' + line_geo\n",
    "            dss_str += ' Nconds=' + str(self.line_geoms.Nconds[line_geo])\n",
    "            dss_str += ' Nphases=' + str(self.line_geoms.Nphases[line_geo])\n",
    "            dss_str += ' Units=' + str(self.line_geoms.Units[line_geo])\n",
    "            for cond in range(1, self.line_geoms.Nphases[line_geo]+1):\n",
    "                dss_str += ' Cond=' + cond\n",
    "                if self.line_geoms.Type[line_geo] == 'OH':\n",
    "                    dss_str += ' Wire=' + self.line_geoms.phase_cond[line_geo]\n",
    "                elif self.line_geoms.Type[line_geo] == 'CN':\n",
    "                    dss_str += ' cnCable=' + self.line_geoms.neutral_cond[line_geo]\n",
    "                else:\n",
    "                    pass\n",
    "                Xcol = str(cond) + '_x'\n",
    "                Zcol = str(cond) + '_z'\n",
    "                dss_str += ' X=' + self.line_geoms[Xcol][line_geo]\n",
    "                dss_str += ' H=' + self.line_geoms[Zcol][line_geo]\n",
    "                if self.line_geoms.Nconds[line_geo] > self.line_geoms.Nphases[line_geo]:\n",
    "                    dss_str += ' reduce=yes'\n",
    "                else:\n",
    "                    dss_str += ' reduce=no'\n",
    "            reply = cmd(dss_str)\n",
    "            print(reply)\n",
    "        \n",
    "        #compile lines\n",
    "        for b1, b2 in self.edges(data=FALSE):\n",
    "            dss_str = 'New Line.'+b1+'-'+b2\n",
    "            dss_str += ' Length='+str(self[b1][b2]['Length'])\n",
    "            dss_str += ' Units='+self[b1][b2]['Units']\n",
    "            lg = self[b1][b2]['LineGeo']\n",
    "            terminals = self.line_geoms['cond_pos'][lg]\n",
    "            dss_str += ' bus1='+b1+terminals\n",
    "            dss_str += ' bus2='+b2+terminals\n",
    "            dss_str += ' phases='+self.line_geoms.Nphases[lg]\n",
    "            dss_str += ' Geometry='+lg\n",
    "            reply = cmd(dss_str)\n",
    "            print(reply)\n",
    "\n",
    "        #compile loads\n",
    "        load_nodes = [n[0] for n in list(self.nodes(data=\"load_node\")) if n[1]==1]\n",
    "        for n in load_nodes:\n",
    "            for nbr in self[n]:\n",
    "                lg = self[n][nbr]['LineGeo']\n",
    "                break\n",
    "            phases = self.line_geoms['Nphases'][lg]\n",
    "            load_kW = self[n]['load_kW']\n",
    "            load_kVAr = self[n]['load_kVAr']\n",
    "\n",
    "        \n",
    "\n",
    "\n",
    "\n",
    "\n",
    "\n",
    "\n",
    "\n",
    "\n",
    "    def record_DSS_output(self, class_name):\n",
    "        class_DSS_output = dss.utils.class_to_dataframe(class_name=class_name)\n",
    "        self.class_name = class_DSS_output\n",
    "        return class_DSS_output\n",
    "\n",
    "    \n",
    "\n",
    "\n",
    "\n"
   ]
  },
  {
   "cell_type": "code",
   "execution_count": 152,
   "metadata": {},
   "outputs": [],
   "source": [
    "def main():\n",
    "    Dnetwork = DistNetwork()\n",
    "\n",
    "    components = {'nodes': 'nodes.csv',\n",
    "              'line_geos': 'LineGeometry.csv',\n",
    "              'wire_data': 'WireData.csv',\n",
    "              'CN_data': 'CNData.csv',\n",
    "              'lines': 'lines.csv',\n",
    "              'loads': 'loads.csv',\n",
    "              'xfmrs': 'xfmrs.csv'}\n",
    "    \n",
    "    Dnetwork.add_network_components(components)\n",
    "    return Dnetwork\n",
    "    \n",
    "\n",
    "DN = main()\n"
   ]
  },
  {
   "cell_type": "code",
   "execution_count": 157,
   "metadata": {},
   "outputs": [
    {
     "name": "stdout",
     "output_type": "stream",
     "text": [
      "('n0', 1268.128148098606)\n",
      "('n24', 61.84658438426491)\n",
      "('n9', 53.85164807134504)\n",
      "('n5', 55.97320787662612)\n",
      "('n28', 129.71121771072848)\n",
      "('n39', 36.76955262170047)\n",
      "('n44', 156.52475842498527)\n"
     ]
    }
   ],
   "source": [
    "xfmr_nodes = ['n0','n24','n9','n5','n28','n39','n44']\n",
    "\n",
    "for n in xfmr_nodes:\n",
    "    print((n,DN.downstream_loads(n, as_kVA=True)))"
   ]
  },
  {
   "cell_type": "code",
   "execution_count": 134,
   "metadata": {},
   "outputs": [
    {
     "data": {
      "text/plain": [
       "7"
      ]
     },
     "execution_count": 134,
     "metadata": {},
     "output_type": "execute_result"
    }
   ],
   "source": [
    "DN.nodes['n40']['Load_kW']"
   ]
  },
  {
   "cell_type": "code",
   "execution_count": 20,
   "metadata": {},
   "outputs": [
    {
     "data": {
      "text/plain": [
       "2"
      ]
     },
     "execution_count": 20,
     "metadata": {},
     "output_type": "execute_result"
    }
   ],
   "source": [
    "for nbr in DN['n5']:\n",
    "    lg = DN['n5'][nbr]['LineGeo']\n",
    "    break\n",
    "DN.line_geoms['Nphases'][lg]"
   ]
  },
  {
   "cell_type": "code",
   "execution_count": 109,
   "metadata": {},
   "outputs": [
    {
     "data": {
      "text/plain": [
       "OutEdgeDataView([('src_node', 'n0', 'xfmr'), ('n0', 'n14', 'line'), ('n0', 'n29', 'line'), ('n1', 'n2', 'line'), ('n2', 'n3', 'line'), ('n3', 'n4', 'line'), ('n5', 'n6', 'line'), ('n6', 'n7', 'line'), ('n6', 'n10', 'line'), ('n7', 'n8', 'line'), ('n7', 'n1', 'line'), ('n10', 'n11', 'line'), ('n11', 'n12', 'line'), ('n12', 'n13', 'line'), ('n14', 'n15', 'line'), ('n14', 'n24', 'xfmr'), ('n15', 'n16', 'line'), ('n15', 'n9', 'xfmr'), ('n16', 'n17', 'line'), ('n17', 'n18', 'line'), ('n17', 'n5', 'xfmr'), ('n18', 'n19', 'line'), ('n19', 'n20', 'line'), ('n19', 'n21', 'line'), ('n20', 'n26', 'line'), ('n20', 'n39', 'xfmr'), ('n21', 'n22', 'line'), ('n22', 'n23', 'line'), ('n23', 'n44', 'xfmr'), ('n24', 'n25', 'line'), ('n26', 'n27', 'line'), ('n29', 'n30', 'line'), ('n30', 'n31', 'line'), ('n30', 'n35', 'line'), ('n31', 'n32', 'line'), ('n31', 'n28', 'xfmr'), ('n32', 'n33', 'line'), ('n33', 'n34', 'line'), ('n35', 'n36', 'line'), ('n36', 'n37', 'line'), ('n37', 'n38', 'line'), ('n39', 'n40', 'line'), ('n39', 'n42', 'line'), ('n40', 'n41', 'line'), ('n42', 'n43', 'line')])"
      ]
     },
     "execution_count": 109,
     "metadata": {},
     "output_type": "execute_result"
    }
   ],
   "source": [
    "DN.edges(data='connector')"
   ]
  },
  {
   "cell_type": "code",
   "execution_count": 106,
   "metadata": {},
   "outputs": [
    {
     "data": {
      "image/png": "[encoded data removed]",
      "text/plain": [
       "<Figure size 576x1152 with 1 Axes>"
      ]
     },
     "metadata": {},
     "output_type": "display_data"
    }
   ],
   "source": [
    "import matplotlib.pyplot as plt\n",
    "\n",
    "plt.figure(figsize=(8,16))\n",
    "nx.draw_networkx(DN, pos=DN.nodes(data='coords'), with_labels=TRUE, arrows=None)"
   ]
  },
  {
   "cell_type": "code",
   "execution_count": 104,
   "metadata": {},
   "outputs": [
    {
     "data": {
      "text/plain": [
       "['n25']"
      ]
     },
     "execution_count": 104,
     "metadata": {},
     "output_type": "execute_result"
    }
   ],
   "source": [
    "list(nx.descendants(DN, 'n24'))"
   ]
  },
  {
   "cell_type": "code",
   "execution_count": 40,
   "metadata": {},
   "outputs": [
    {
     "name": "stdout",
     "output_type": "stream",
     "text": [
      "2\n",
      "2\n",
      "2\n",
      "2\n",
      "2\n",
      "2\n",
      "2\n",
      "2\n",
      "3\n",
      "3\n",
      "3\n",
      "3\n",
      "1\n",
      "1\n",
      "1\n",
      "3\n",
      "3\n",
      "3\n",
      "3\n",
      "1\n",
      "1\n",
      "1\n",
      "1\n",
      "1\n",
      "1\n",
      "1\n",
      "1\n"
     ]
    }
   ],
   "source": [
    "load_nodes = [n[0] for n in list(DN.nodes(data=\"load_node\")) if n[1]==1]\n",
    "for n in load_nodes:\n",
    "    for nbr in DN[n]:\n",
    "        lg = DN[n][nbr]['LineGeo']\n",
    "        break\n",
    "    print(DN.line_geoms['Nphases'][lg])"
   ]
  }
 ],
 "metadata": {
  "kernelspec": {
   "display_name": "Python 3 (ipykernel)",
   "language": "python",
   "name": "python3"
  },
  "language_info": {
   "codemirror_mode": {
    "name": "ipython",
    "version": 3
   },
   "file_extension": ".py",
   "mimetype": "text/x-python",
   "name": "python",
   "nbconvert_exporter": "python",
   "pygments_lexer": "ipython3",
   "version": "3.9.12"
  },
  "vscode": {
   "interpreter": {
    "hash": "6d662ac6fda5bf1608e2540d868b67cfce62ed1a5c77c21ae69a90c01a005a44"
   }
  }
 },
 "nbformat": 4,
 "nbformat_minor": 2
}
