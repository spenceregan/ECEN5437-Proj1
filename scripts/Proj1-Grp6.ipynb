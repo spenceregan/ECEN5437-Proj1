{
 "cells": [
  {
   "cell_type": "code",
   "execution_count": 16,
   "metadata": {},
   "outputs": [],
   "source": [
    "from networkx import Graph\n",
    "import networkx as nx\n",
    "import pandas as pd\n",
    "from pathlib import Path\n",
    "\n",
    "import opendssdirect as dss\n",
    "\n",
    "\n",
    "class DistNetwork(Graph):\n",
    "\n",
    "    def Add_Nodes(self, node_csv):\n",
    "        nodes_df = pd.read_csv(node_csv)\n",
    "        for bus in nodes_df.index:\n",
    "            bus_name = nodes_df['Bus'][bus]\n",
    "            Loc_x = nodes_df['Graph_Loc_x'][bus]\n",
    "            Loc_y = nodes_df['Graph_Loc_y'][bus]\n",
    "            graph_coords = (Loc_x, Loc_y)\n",
    "            self.add_node(bus_name, coords = graph_coords)\n",
    "    \n",
    "    def Add_LineGeoms(self, lineGeoms_csv):\n",
    "        line_geoms_df = pd.read_csv(lineGeoms_csv, index_col='LineGeo')\n",
    "        self.line_geoms = line_geoms_df\n",
    "    \n",
    "    def Add_WireData(self, wireData_csv):\n",
    "        wire_data_df = pd.read_csv(wireData_csv, index_col='Type')\n",
    "        self.wire_data = wire_data_df\n",
    "\n",
    "    def Add_CNData(self, CNData_csv):\n",
    "        CN_data_df = pd.read_csv(CNData_csv, index_col='Type')\n",
    "        self.CN_data = CN_data_df\n",
    "\n",
    "    def Add_Lines(self, lines_csv):\n",
    "        lines_df = pd.read_csv(lines_csv)\n",
    "        for line in lines_df.index:\n",
    "            Bus1 = lines_df['bus1'][line]\n",
    "            Bus2 = lines_df['bus2'][line]\n",
    "            length = lines_df['Length'][line]\n",
    "            units = lines_df['Units'][line]\n",
    "            line_geo = lines_df['LineGeometry']\n",
    "            self.add_edge(Bus1, \n",
    "                          Bus2, \n",
    "                          Length = length, \n",
    "                          Units = units, \n",
    "                          LineGeo = line_geo\n",
    "                          )\n",
    "    \n",
    "    def Add_Loads(self, loads_csv):\n",
    "        loads_df = pd.read_csv(loads_csv)\n",
    "        for load in loads_df.index:\n",
    "            bus = loads_df['Node'][load]\n",
    "            load_kW = loads_df['kW'][load]\n",
    "            load_kVAr = loads_df['kVAr'][load]\n",
    "            self.nodes[bus][\"Load_kW\"] = load_kW\n",
    "            self.nodes[bus][\"Load_kVAr\"] = load_kVAr\n",
    "\n",
    "    def clear_DSS(self):\n",
    "        dss.utils.run_command(\"clear\")\n",
    "\n",
    "    def solve_DSS(self):\n",
    "        dss.utils.run_command(\"solve\")\n",
    "\n",
    "    def compile_DSS(self):\n",
    "        self.clear_DSS()\n",
    "        \n",
    "        cmd = dss.utils.run_command\n",
    "\n",
    "        #compile wriedata\n",
    "\n",
    "    def record_DSS_output(self, class_name):\n",
    "        class_DSS_output = dss.utils.class_to_dataframe(class_name=class_name)\n",
    "        self.class_name = class_DSS_output\n",
    "        return class_DSS_output\n",
    "\n",
    "    \n",
    "\n",
    "\n",
    "\n"
   ]
  },
  {
   "cell_type": "code",
   "execution_count": 21,
   "metadata": {},
   "outputs": [
    {
     "data": {
      "text/plain": [
       "LineGeo\n",
       "OH3p    2/0__ACSR\n",
       "OH2p    1/0__ACSR\n",
       "OH1p    1/0__ACSR\n",
       "Name: phase_conductor, dtype: object"
      ]
     },
     "execution_count": 21,
     "metadata": {},
     "output_type": "execute_result"
    }
   ],
   "source": [
    "Dnetwork = DistNetwork()\n",
    "\n",
    "bus_csv = Path('..', 'network-data', 'nodes.csv')\n",
    "Dnetwork.Add_Nodes(bus_csv)\n",
    "\n",
    "lineGeo_csv = Path('..', 'network-data', 'LineGeometry.csv')\n",
    "Dnetwork.Add_LineGeoms(lineGeo_csv)\n",
    "\n",
    "wireData_csv = Path('..', 'network-data', 'WireData.csv')\n",
    "Dnetwork.Add_WireData(wireData_csv)\n",
    "\n",
    "CNData_csv = Path('..', 'network-data', 'CNData.csv')\n",
    "Dnetwork.Add_CNData(CNData_csv)\n",
    "\n",
    "lines_csv = Path('..', 'network-data', 'lines.csv')\n",
    "Dnetwork.Add_Lines(lines_csv)\n",
    "\n",
    "loads_csv = Path('..', 'network-data', 'loads.csv')\n",
    "Dnetwork.Add_Loads(loads_csv)\n",
    "\n",
    "Dnetwork.line_geoms['phase_conductor'][Dnetwork.line_geoms['Type']=='OH']\n"
   ]
  },
  {
   "cell_type": "code",
   "execution_count": 36,
   "metadata": {},
   "outputs": [
    {
     "ename": "TypeError",
     "evalue": "list expected at most 1 argument, got 2",
     "output_type": "error",
     "traceback": [
      "\u001b[0;31m---------------------------------------------------------------------------\u001b[0m",
      "\u001b[0;31mTypeError\u001b[0m                                 Traceback (most recent call last)",
      "\u001b[1;32m/Users/spenceregan/Repos/CU/Distribution_Systems/Project1/ECEN5437-Proj1/scripts/Proj1-Grp6.ipynb Cell 3\u001b[0m in \u001b[0;36m<cell line: 4>\u001b[0;34m()\u001b[0m\n\u001b[1;32m      <a href='vscode-notebook-cell:/Users/spenceregan/Repos/CU/Distribution_Systems/Project1/ECEN5437-Proj1/scripts/Proj1-Grp6.ipynb#X15sZmlsZQ%3D%3D?line=1'>2</a>\u001b[0m ph_conductors \u001b[39m=\u001b[39m Dnetwork\u001b[39m.\u001b[39mline_geoms[\u001b[39m'\u001b[39m\u001b[39mphase_conductor\u001b[39m\u001b[39m'\u001b[39m][OH_line_geos]\n\u001b[1;32m      <a href='vscode-notebook-cell:/Users/spenceregan/Repos/CU/Distribution_Systems/Project1/ECEN5437-Proj1/scripts/Proj1-Grp6.ipynb#X15sZmlsZQ%3D%3D?line=2'>3</a>\u001b[0m n_conductors \u001b[39m=\u001b[39m Dnetwork\u001b[39m.\u001b[39mline_geoms[\u001b[39m'\u001b[39m\u001b[39mneutral_conductor\u001b[39m\u001b[39m'\u001b[39m][OH_line_geos]\n\u001b[0;32m----> <a href='vscode-notebook-cell:/Users/spenceregan/Repos/CU/Distribution_Systems/Project1/ECEN5437-Proj1/scripts/Proj1-Grp6.ipynb#X15sZmlsZQ%3D%3D?line=3'>4</a>\u001b[0m \u001b[39mset\u001b[39m(\u001b[39mlist\u001b[39;49m(ph_conductors, n_conductors))\n",
      "\u001b[0;31mTypeError\u001b[0m: list expected at most 1 argument, got 2"
     ]
    }
   ],
   "source": [
    "OH_line_geos = Dnetwork.line_geoms['Type']=='OH'\n",
    "ph_conductors = Dnetwork.line_geoms['phase_conductor'][OH_line_geos]\n",
    "n_conductors = Dnetwork.line_geoms['neutral_conductor'][OH_line_geos]\n",
    "set(list(ph_conductors, n_conductors))\n"
   ]
  },
  {
   "cell_type": "code",
   "execution_count": null,
   "metadata": {},
   "outputs": [],
   "source": [
    "\n",
    "    lineGeo_csv = Path('network-data', '/network-data/LineGeometry.csv')\n",
    "    Dnetwork.Add_LineGeoms(lineGeo_csv)\n",
    "\n",
    "    wireData_csv = Path('network-data', '/network-data/WireData.csv')\n",
    "    Dnetwork.Add_WireData(wireData_csv)\n",
    "\n",
    "    CNData_csv = Path('network-data', '/network-data/CNData.csv')\n",
    "    Dnetwork.Add_CNData(CNData_csv)\n",
    "\n",
    "    lines_csv = Path('network-data', '/network-data/lines.csv')\n",
    "    Dnetowrk.Add_Lines(lines_csv)\n",
    "\n",
    "    loads_csv = Path('network-data', '/network-data/loads.csv')\n",
    "    Dnetowrk.Add_Loads(loads_csv)\n",
    "\n",
    "\n",
    "\n",
    "main()\n",
    "\n",
    "\n"
   ]
  }
 ],
 "metadata": {
  "kernelspec": {
   "display_name": "Python 3 (ipykernel)",
   "language": "python",
   "name": "python3"
  },
  "language_info": {
   "codemirror_mode": {
    "name": "ipython",
    "version": 3
   },
   "file_extension": ".py",
   "mimetype": "text/x-python",
   "name": "python",
   "nbconvert_exporter": "python",
   "pygments_lexer": "ipython3",
   "version": "3.9.12"
  },
  "vscode": {
   "interpreter": {
    "hash": "6d662ac6fda5bf1608e2540d868b67cfce62ed1a5c77c21ae69a90c01a005a44"
   }
  }
 },
 "nbformat": 4,
 "nbformat_minor": 2
}
