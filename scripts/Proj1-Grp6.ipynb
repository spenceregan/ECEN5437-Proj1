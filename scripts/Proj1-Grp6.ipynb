{
 "cells": [
  {
   "cell_type": "code",
   "execution_count": null,
   "metadata": {},
   "outputs": [],
   "source": [
    "import opendss as dss\n",
    "cmd = dss.utils.run_command\n",
    "\n",
    "import networkx as nx\n",
    "import pandas as pd\n",
    "\n"
   ]
  }
 ],
 "metadata": {
  "kernelspec": {
   "display_name": "Python 3.9.12 ('base')",
   "language": "python",
   "name": "python3"
  },
  "language_info": {
   "name": "python",
   "version": "3.9.12"
  },
  "orig_nbformat": 4,
  "vscode": {
   "interpreter": {
    "hash": "6d662ac6fda5bf1608e2540d868b67cfce62ed1a5c77c21ae69a90c01a005a44"
   }
  }
 },
 "nbformat": 4,
 "nbformat_minor": 2
}
