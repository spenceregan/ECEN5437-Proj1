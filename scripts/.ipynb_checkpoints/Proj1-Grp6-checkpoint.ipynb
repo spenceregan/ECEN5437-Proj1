{
 "cells": [
  {
   "cell_type": "code",
   "execution_count": 2,
   "metadata": {},
   "outputs": [
    {
     "ename": "SyntaxError",
     "evalue": "invalid syntax (934678749.py, line 17)",
     "output_type": "error",
     "traceback": [
      "\u001b[0;36m  Input \u001b[0;32mIn [2]\u001b[0;36m\u001b[0m\n\u001b[0;31m    def main:\u001b[0m\n\u001b[0m            ^\u001b[0m\n\u001b[0;31mSyntaxError\u001b[0m\u001b[0;31m:\u001b[0m invalid syntax\n"
     ]
    }
   ],
   "source": [
    "#%%\n",
    "from networkx import Graph\n",
    "import networkx as nx\n",
    "import pandas as pd\n",
    "import os\n",
    "\n",
    "\n",
    "class DistNetwork(Graph):\n",
    "\n",
    "    def Load_Nodes(self, node_csv):\n",
    "        nodes = pd.read_csv(node_csv, index_col='Bus')\n",
    "        for bus in nodes.index:\n",
    "            bus_name = nodes['Bus'][bus]\n",
    "            graph_coords = (float(nodes['Graph_Loc_x'][bus]), float(nodes['Graph_Loc_y']))\n",
    "            self.add_node(bus_name, coords = graph_coords)\n",
    "\n",
    "def main(self):\n",
    "    bus_csv = \"/../network-data/node_locations.csv\"\n",
    "    netowrk = DistNetwork()\n",
    "    netowrk.Load_Nodes(bus_csv)\n",
    "    nx.draw(network, nx.get_node_attributes(network, coords))\n",
    "\n",
    "main()\n",
    "\n",
    "\n"
   ]
  },
  {
   "cell_type": "code",
   "execution_count": null,
   "metadata": {},
   "outputs": [],
   "source": []
  },
  {
   "cell_type": "code",
   "execution_count": null,
   "metadata": {},
   "outputs": [],
   "source": []
  },
  {
   "cell_type": "code",
   "execution_count": null,
   "metadata": {},
   "outputs": [],
   "source": []
  },
  {
   "cell_type": "code",
   "execution_count": null,
   "metadata": {},
   "outputs": [],
   "source": []
  },
  {
   "cell_type": "code",
   "execution_count": null,
   "metadata": {},
   "outputs": [],
   "source": []
  },
  {
   "cell_type": "code",
   "execution_count": null,
   "metadata": {},
   "outputs": [],
   "source": []
  }
 ],
 "metadata": {
  "kernelspec": {
   "display_name": "Python 3 (ipykernel)",
   "language": "python",
   "name": "python3"
  },
  "language_info": {
   "codemirror_mode": {
    "name": "ipython",
    "version": 3
   },
   "file_extension": ".py",
   "mimetype": "text/x-python",
   "name": "python",
   "nbconvert_exporter": "python",
   "pygments_lexer": "ipython3",
   "version": "3.9.12"
  },
  "vscode": {
   "interpreter": {
    "hash": "6d662ac6fda5bf1608e2540d868b67cfce62ed1a5c77c21ae69a90c01a005a44"
   }
  }
 },
 "nbformat": 4,
 "nbformat_minor": 2
}
